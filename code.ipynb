{
 "cells": [
  {
   "cell_type": "code",
   "execution_count": 1,
   "id": "02985e07",
   "metadata": {},
   "outputs": [
    {
     "name": "stdout",
     "output_type": "stream",
     "text": [
      "Downloading https://github.com/ultralytics/assets/releases/download/v8.3.0/yolov8n.pt to 'yolov8n.pt'...\n"
     ]
    },
    {
     "name": "stderr",
     "output_type": "stream",
     "text": [
      "100%|██████████| 6.25M/6.25M [00:02<00:00, 2.81MB/s]\n"
     ]
    },
    {
     "name": "stdout",
     "output_type": "stream",
     "text": [
      "\n"
     ]
    },
    {
     "name": "stderr",
     "output_type": "stream",
     "text": [
      "c:\\Users\\Ishaan Verma\\AppData\\Local\\Programs\\Python\\Python312\\Lib\\site-packages\\tqdm\\auto.py:21: TqdmWarning: IProgress not found. Please update jupyter and ipywidgets. See https://ipywidgets.readthedocs.io/en/stable/user_install.html\n",
      "  from .autonotebook import tqdm as notebook_tqdm\n"
     ]
    },
    {
     "name": "stdout",
     "output_type": "stream",
     "text": [
      "image 1/1 C:\\Users\\Ishaan Verma\\Pictures\\Screenshots\\Screenshot (89).png: 384x640 1 person, 282.7ms\n",
      "Speed: 16.3ms preprocess, 282.7ms inference, 19.2ms postprocess per image at shape (1, 3, 384, 640)\n",
      "\n",
      "--- Safety Gear Detection Results ---\n",
      "Safety Vest: ❌ Not Detected (+0%)\n",
      "Hard Hat: ❌ Not Detected (+0%)\n",
      "Gloves: ❌ Not Detected (+0%)\n",
      "Eye Protection: ❌ Not Detected (+0%)\n",
      "Fall Protection: ❌ Not Detected (+0%)\n",
      "Eh Boots: ❌ Not Detected (+0%)\n",
      "Environment: Ground Level (+0%)\n",
      "\n",
      "Final Safety Compliance Score: 0%\n"
     ]
    }
   ],
   "source": [
    "from ultralytics import YOLO\n",
    "import cv2\n",
    "\n",
    "# Load pretrained YOLOv8 model (you can replace with your custom model later)\n",
    "model = YOLO('yolov8n.pt')  # Replace with your PPE detection model if available\n",
    "\n",
    "# Define safety gear classes (you'll need a model trained on PPE or map these to your classes)\n",
    "required_gear = {\n",
    "    'safety_vest': {'label': 'vest', 'weight': 10},\n",
    "    'hard_hat': {'label': 'helmet', 'weight': 10},\n",
    "    'gloves': {'label': 'glove', 'weight': 15},\n",
    "    'eye_protection': {'label': 'goggles', 'weight': 10},\n",
    "    'fall_protection': {'label': 'harness', 'weight': 20},\n",
    "    'eh_boots': {'label': 'boots', 'weight': 15}\n",
    "}\n",
    "\n",
    "# Add a dummy environment weight (can be detected via additional logic or prompts later)\n",
    "environment_weight = 20  # Assuming default ground-level unless handled separately\n",
    "\n",
    "# Load image\n",
    "image_path = r\"C:\\Users\\Ishaan Verma\\Pictures\\Screenshots\\Screenshot (89).png\"  # Replace with your image path\n",
    "image = cv2.imread(image_path)\n",
    "\n",
    "# Run detection\n",
    "results = model.predict(source=image_path, conf=0.5)\n",
    "\n",
    "# Process detections\n",
    "detected_labels = set()\n",
    "for result in results:\n",
    "    for box in result.boxes:\n",
    "        class_id = int(box.cls[0])\n",
    "        class_name = model.names[class_id]\n",
    "        detected_labels.add(class_name.lower())\n",
    "\n",
    "# Scoring\n",
    "score = 0\n",
    "print(\"\\n--- Safety Gear Detection Results ---\")\n",
    "for gear, details in required_gear.items():\n",
    "    label = details['label']\n",
    "    weight = details['weight']\n",
    "    if label.lower() in detected_labels:\n",
    "        print(f\"{gear.replace('_', ' ').title()}: ✅ Detected (+{weight}%)\")\n",
    "        score += weight\n",
    "    else:\n",
    "        print(f\"{gear.replace('_', ' ').title()}: ❌ Not Detected (+0%)\")\n",
    "\n",
    "# Environment check (defaulting to ground level)\n",
    "print(\"Environment: Ground Level (+0%)\")\n",
    "score += 0  # Add weight here if rooftop detection is added later\n",
    "\n",
    "print(f\"\\nFinal Safety Compliance Score: {score}%\")\n",
    "\n",
    "# Optional: Show image with detections\n",
    "results[0].show()\n"
   ]
  }
 ],
 "metadata": {
  "kernelspec": {
   "display_name": "Python 3",
   "language": "python",
   "name": "python3"
  },
  "language_info": {
   "codemirror_mode": {
    "name": "ipython",
    "version": 3
   },
   "file_extension": ".py",
   "mimetype": "text/x-python",
   "name": "python",
   "nbconvert_exporter": "python",
   "pygments_lexer": "ipython3",
   "version": "3.12.4"
  }
 },
 "nbformat": 4,
 "nbformat_minor": 5
}

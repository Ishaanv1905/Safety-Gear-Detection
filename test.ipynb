{
 "cells": [
  {
   "cell_type": "code",
   "execution_count": 1,
   "id": "6260d9b9",
   "metadata": {},
   "outputs": [],
   "source": [
    "import numpy as np\n",
    "import pandas as pd\n",
    "import os"
   ]
  },
  {
   "cell_type": "code",
   "execution_count": 6,
   "id": "b2ae1f03",
   "metadata": {},
   "outputs": [],
   "source": [
    "def update(file_path:str, root:str):\n",
    "    with open(file_path,\"r\") as file:\n",
    "        paths=file.readlines()\n",
    "        \n",
    "    updated_paths=list[str]()\n",
    "    for path in paths:\n",
    "        path=path.strip()\n",
    "        updated_paths.append(root+path+\"\\n\")\n",
    "        \n",
    "    new_file_path=\"\"+os.path.basename(file_path)\n",
    "    \n",
    "    with open(new_file_path, \"w\") as file:\n",
    "        file.writelines(updated_paths)\n",
    "    \n",
    "    print(\"updated file created successfully: \"+new_file_path)"
   ]
  },
  {
   "cell_type": "code",
   "execution_count": null,
   "id": "0d9c90f8",
   "metadata": {},
   "outputs": [],
   "source": []
  }
 ],
 "metadata": {
  "kernelspec": {
   "display_name": "Python 3",
   "language": "python",
   "name": "python3"
  },
  "language_info": {
   "codemirror_mode": {
    "name": "ipython",
    "version": 3
   },
   "file_extension": ".py",
   "mimetype": "text/x-python",
   "name": "python",
   "nbconvert_exporter": "python",
   "pygments_lexer": "ipython3",
   "version": "3.12.4"
  }
 },
 "nbformat": 4,
 "nbformat_minor": 5
}
